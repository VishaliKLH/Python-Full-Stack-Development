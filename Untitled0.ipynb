{
  "nbformat": 4,
  "nbformat_minor": 0,
  "metadata": {
    "colab": {
      "provenance": [],
      "authorship_tag": "ABX9TyM0O0zdhaYUJ8hGUH9SqHUN",
      "include_colab_link": true
    },
    "kernelspec": {
      "name": "python3",
      "display_name": "Python 3"
    },
    "language_info": {
      "name": "python"
    }
  },
  "cells": [
    {
      "cell_type": "markdown",
      "metadata": {
        "id": "view-in-github",
        "colab_type": "text"
      },
      "source": [
        "<a href=\"https://colab.research.google.com/github/VishaliKLH/Python-Full-Stack-Development/blob/main/Untitled0.ipynb\" target=\"_parent\"><img src=\"https://colab.research.google.com/assets/colab-badge.svg\" alt=\"Open In Colab\"/></a>"
      ]
    },
    {
      "cell_type": "code",
      "execution_count": null,
      "metadata": {
        "colab": {
          "base_uri": "https://localhost:8080/"
        },
        "id": "kd4mu8JJS0lo",
        "outputId": "e15d35c8-d6ef-407a-b679-b830605bdaba"
      },
      "outputs": [
        {
          "output_type": "stream",
          "name": "stdout",
          "text": [
            "(1, 2, 3, 4, 5, 6)\n",
            "('Repeat', 'Repeat', 'Repeat')\n"
          ]
        }
      ],
      "source": [
        "print((1,2,3)+(4,5,6))\n",
        "print((\"Repeat\", )*3)"
      ]
    },
    {
      "cell_type": "code",
      "source": [
        "my_tuple('a','p','p,'l','e',)\n",
        "print('a' in my_tuple)\n",
        "print('b' in my_tuple)\n",
        "print('g' not in my_tuple)"
      ],
      "metadata": {
        "colab": {
          "base_uri": "https://localhost:8080/",
          "height": 130
        },
        "id": "GMW6aQiVTeJS",
        "outputId": "2d052bab-c3ff-4342-c62b-aaa63a1c2d9c"
      },
      "execution_count": null,
      "outputs": [
        {
          "output_type": "error",
          "ename": "SyntaxError",
          "evalue": "ignored",
          "traceback": [
            "\u001b[0;36m  File \u001b[0;32m\"<ipython-input-6-a9c57ac60728>\"\u001b[0;36m, line \u001b[0;32m1\u001b[0m\n\u001b[0;31m    my_tuple('a','p','p,'l','e',)\u001b[0m\n\u001b[0m                         ^\u001b[0m\n\u001b[0;31mSyntaxError\u001b[0m\u001b[0;31m:\u001b[0m invalid syntax\n"
          ]
        }
      ]
    },
    {
      "cell_type": "code",
      "source": [],
      "metadata": {
        "id": "AsSbGtkhTETn"
      },
      "execution_count": null,
      "outputs": []
    }
  ]
}