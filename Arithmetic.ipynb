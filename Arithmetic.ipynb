{
  "nbformat": 4,
  "nbformat_minor": 0,
  "metadata": {
    "colab": {
      "name": "Arithmetic.ipynb",
      "provenance": [],
      "authorship_tag": "ABX9TyMcfgC1bkyn6N1Gto53yRIY",
      "include_colab_link": true
    },
    "kernelspec": {
      "name": "python3",
      "display_name": "Python 3"
    },
    "language_info": {
      "name": "python"
    }
  },
  "cells": [
    {
      "cell_type": "markdown",
      "metadata": {
        "id": "view-in-github",
        "colab_type": "text"
      },
      "source": [
        "<a href=\"https://colab.research.google.com/github/VishaliKLH/Python-Full-Stack-Development/blob/main/Arithmetic.ipynb\" target=\"_parent\"><img src=\"https://colab.research.google.com/assets/colab-badge.svg\" alt=\"Open In Colab\"/></a>"
      ]
    },
    {
      "cell_type": "code",
      "execution_count": 14,
      "metadata": {
        "colab": {
          "base_uri": "https://localhost:8080/"
        },
        "id": "j92YIhGZlehj",
        "outputId": "346a8aaa-bd0d-4446-b4e4-cbb3fdf71433"
      },
      "outputs": [
        {
          "output_type": "stream",
          "name": "stdout",
          "text": [
            "8\n",
            "2\n",
            "15\n",
            "2\n",
            "1.6666666666666667\n"
          ]
        }
      ],
      "source": [
        " a=5\n",
        " b=3\n",
        " print(a+b)\n",
        " a=5\n",
        " b=3\n",
        " print(a-b)\n",
        " a=5\n",
        " b=3\n",
        " print(a*b)\n",
        " a=5\n",
        " b=3\n",
        " print(a%b)\n",
        " a=5\n",
        " b=3\n",
        " print(a/b)"
      ]
    }
  ]
}